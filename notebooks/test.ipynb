{
 "cells": [
  {
   "cell_type": "code",
   "execution_count": 1,
   "metadata": {},
   "outputs": [
    {
     "name": "stderr",
     "output_type": "stream",
     "text": [
      "2023-12-16 19:31:24.033451: W tensorflow/stream_executor/platform/default/dso_loader.cc:60] Could not load dynamic library 'libcudart.so.11.0'; dlerror: libcudart.so.11.0: cannot open shared object file: No such file or directory\n",
      "2023-12-16 19:31:24.033547: I tensorflow/stream_executor/cuda/cudart_stub.cc:29] Ignore above cudart dlerror if you do not have a GPU set up on your machine.\n"
     ]
    }
   ],
   "source": [
    "from io import BytesIO\n",
    "from urllib import request\n",
    "from PIL import Image\n",
    "import numpy as np\n",
    "import tensorflow as tf\n",
    "from tensorflow import keras\n",
    "import tensorflow.lite as tflite"
   ]
  },
  {
   "cell_type": "code",
   "execution_count": 2,
   "metadata": {},
   "outputs": [],
   "source": [
    "path = '../data/test/baseball/4.jpg'"
   ]
  },
  {
   "cell_type": "code",
   "execution_count": 3,
   "metadata": {},
   "outputs": [],
   "source": [
    "user_agent = 'Mozilla/5.0 (Windows; U; Windows NT 5.1; en-US; rv:1.9.0.7) Gecko/2009021910 Firefox/3.0.7'\n",
    "headers={'User-Agent':user_agent,} \n",
    "\n",
    "def download_image(url):\n",
    "    respose = request.Request(url,None,headers)\n",
    "    with request.urlopen(respose) as resp:\n",
    "        buffer = resp.read()\n",
    "    stream = BytesIO(buffer)\n",
    "    img = Image.open(stream)\n",
    "    return img"
   ]
  },
  {
   "cell_type": "code",
   "execution_count": 4,
   "metadata": {},
   "outputs": [],
   "source": [
    "def load_preprocess_img(img_path):\n",
    "    if img_path.startswith('https') or img_path.startswith('http'):\n",
    "        img = download_image(img_path)\n",
    "    else:\n",
    "        # Load the image\n",
    "        img = Image.open(img_path)\n",
    "\n",
    "    img = img.resize((224,224))\n",
    "\n",
    "    # Convert to numpy array\n",
    "    x = np.array(img)\n",
    "    # Convert x into a batch\n",
    "    X = np.array([x], dtype='float32')\n",
    "    # Preprocess Image\n",
    "    X /= 255.0\n",
    "    return X"
   ]
  },
  {
   "cell_type": "code",
   "execution_count": 6,
   "metadata": {},
   "outputs": [],
   "source": [
    "url = 'https://images.pexels.com/photos/3628912/pexels-photo-3628912.jpeg?auto=compress&cs=tinysrgb&w=1260&h=750&dpr=1'"
   ]
  },
  {
   "cell_type": "code",
   "execution_count": 7,
   "metadata": {},
   "outputs": [
    {
     "data": {
      "text/plain": [
       "(1, 224, 224, 3)"
      ]
     },
     "execution_count": 7,
     "metadata": {},
     "output_type": "execute_result"
    }
   ],
   "source": [
    "X = load_preprocess_img(url)\n",
    "X.shape"
   ]
  },
  {
   "cell_type": "markdown",
   "metadata": {},
   "source": [
    "### Using TFlite"
   ]
  },
  {
   "cell_type": "code",
   "execution_count": 8,
   "metadata": {},
   "outputs": [],
   "source": [
    "interpreter = tflite.Interpreter(model_path='../models/prediction.tflite')\n",
    "interpreter.allocate_tensors()\n",
    "\n",
    "input_index = interpreter.get_input_details()[0]['index']\n",
    "output_index = interpreter.get_output_details()[0]['index']"
   ]
  },
  {
   "cell_type": "code",
   "execution_count": 9,
   "metadata": {},
   "outputs": [],
   "source": [
    "interpreter.set_tensor(input_index, X)\n",
    "interpreter.invoke()\n",
    "preds = interpreter.get_tensor(output_index)"
   ]
  },
  {
   "cell_type": "code",
   "execution_count": 10,
   "metadata": {},
   "outputs": [],
   "source": [
    "classes = ['airhockey',\n",
    "'amputefootball',\n",
    "'archery',\n",
    "'armwrestling',\n",
    "'axethrowing',\n",
    "'balancebeam',\n",
    "'barellracing',\n",
    "'baseball',\n",
    "'basketball',\n",
    "'batontwirling',\n",
    "'bikepolo',\n",
    "'billiards',\n",
    "'bmx',\n",
    "'bobsled',\n",
    "'bowling',\n",
    "'boxing',\n",
    "'bullriding',\n",
    "'bungeejumping',\n",
    "'canoeslamon',\n",
    "'cheerleading',\n",
    "'chuckwagonracing',\n",
    "'cricket',\n",
    "'croquet',\n",
    "'curling',\n",
    "'discgolf',\n",
    "'fencing',\n",
    "'fieldhockey',\n",
    "'figureskatingmen',\n",
    "'figureskatingpairs',\n",
    "'figureskatingwomen',\n",
    "'flyfishing',\n",
    "'football',\n",
    "'formularacing',\n",
    "'frisbee',\n",
    "'gaga',\n",
    "'giantslalom',\n",
    "'golf',\n",
    "'hammerthrow',\n",
    "'hanggliding',\n",
    "'harnessracing',\n",
    "'highjump',\n",
    "'hockey',\n",
    "'horsejumping',\n",
    "'horseracing',\n",
    "'horseshoepitching',\n",
    "'hurdles',\n",
    "'hydroplaneracing',\n",
    "'iceclimbing',\n",
    "'iceyachting',\n",
    "'jaialai',\n",
    "'javelin',\n",
    "'jousting',\n",
    "'judo',\n",
    "'lacrosse',\n",
    "'logrolling',\n",
    "'luge',\n",
    "'motorcycleracing',\n",
    "'mushing',\n",
    "'nascarracing',\n",
    "'olympicwrestling',\n",
    "'parallelbar',\n",
    "'poleclimbing',\n",
    "'poledancing',\n",
    "'polevault',\n",
    "'polo',\n",
    "'pommelhorse',\n",
    "'rings',\n",
    "'rockclimbing',\n",
    "'rollerderby',\n",
    "'rollerbladeracing',\n",
    "'rowing',\n",
    "'rugby',\n",
    "'sailboatracing',\n",
    "'shotput',\n",
    "'shuffleboard',\n",
    "'sidecarracing',\n",
    "'skijumping',\n",
    "'skysurfing',\n",
    "'skydiving',\n",
    "'snowboarding',\n",
    "'snowmobileracing',\n",
    "'speedskating',\n",
    "'steerwrestling',\n",
    "'sumowrestling',\n",
    "'surfing',\n",
    "'swimming',\n",
    "'tabletennis',\n",
    "'tennis',\n",
    "'trackbicycle',\n",
    "'trapeze',\n",
    "'tugofwar',\n",
    "'ultimate',\n",
    "'unevenbars',\n",
    "'volleyball',\n",
    "'watercycling',\n",
    "'waterpolo',\n",
    "'weightlifting',\n",
    "'wheelchairbasketball',\n",
    "'wheelchairracing',\n",
    "'wingsuitflying']"
   ]
  },
  {
   "cell_type": "code",
   "execution_count": 11,
   "metadata": {},
   "outputs": [
    {
     "data": {
      "text/plain": [
       "[('cricket', 10.8796835),\n",
       " ('baseball', 8.193538),\n",
       " ('croquet', 7.908885),\n",
       " ('football', 6.1987066),\n",
       " ('golf', 5.5249014)]"
      ]
     },
     "execution_count": 11,
     "metadata": {},
     "output_type": "execute_result"
    }
   ],
   "source": [
    "sorted(zip(classes, preds.squeeze()), key=lambda x:-x[1])[:5]"
   ]
  },
  {
   "cell_type": "code",
   "execution_count": null,
   "metadata": {},
   "outputs": [],
   "source": []
  }
 ],
 "metadata": {
  "kernelspec": {
   "display_name": "capstone",
   "language": "python",
   "name": "python3"
  },
  "language_info": {
   "codemirror_mode": {
    "name": "ipython",
    "version": 3
   },
   "file_extension": ".py",
   "mimetype": "text/x-python",
   "name": "python",
   "nbconvert_exporter": "python",
   "pygments_lexer": "ipython3",
   "version": "3.8.0"
  }
 },
 "nbformat": 4,
 "nbformat_minor": 2
}
